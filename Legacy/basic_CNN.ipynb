{
 "cells": [
  {
   "cell_type": "code",
   "execution_count": 1,
   "id": "initial_id",
   "metadata": {
    "collapsed": true,
    "ExecuteTime": {
     "end_time": "2024-03-24T13:37:20.308976Z",
     "start_time": "2024-03-24T13:37:04.067476Z"
    }
   },
   "outputs": [],
   "source": [
    "from os import path, makedirs, walk,listdir, remove\n",
    "import pandas as pd\n",
    "from shutil import copyfile\n",
    "import numpy as np\n",
    "from matplotlib import pyplot as plt\n",
    "from sklearn.model_selection import KFold, train_test_split\n",
    "from keras.models import Sequential\n",
    "from keras.layers import Conv2D, MaxPooling2D, Dense, Flatten, Input, Rescaling\n",
    "from keras.backend import clear_session\n",
    "from keras.utils import image_dataset_from_directory, split_dataset\n",
    "from keras.optimizers import Adam\n",
    "from keras.losses import BinaryCrossentropy\n",
    "from keras.metrics import BinaryAccuracy, Precision, Recall, F1Score, TrueNegatives, TruePositives, FalseNegatives, FalsePositives\n",
    "from keras.callbacks import EarlyStopping\n",
    "from random import choice"
   ]
  },
  {
   "cell_type": "code",
   "outputs": [
    {
     "name": "stderr",
     "output_type": "stream",
     "text": [
      "2024-03-24 13:37:20.312288: I metal_plugin/src/device/metal_device.cc:1154] Metal device set to: Apple M2 Pro\n",
      "2024-03-24 13:37:20.312309: I metal_plugin/src/device/metal_device.cc:296] systemMemory: 16.00 GB\n",
      "2024-03-24 13:37:20.312329: I metal_plugin/src/device/metal_device.cc:313] maxCacheSize: 5.33 GB\n",
      "2024-03-24 13:37:20.312376: I tensorflow/core/common_runtime/pluggable_device/pluggable_device_factory.cc:305] Could not identify NUMA node of platform GPU ID 0, defaulting to 0. Your kernel may not have been built with NUMA support.\n",
      "2024-03-24 13:37:20.312389: I tensorflow/core/common_runtime/pluggable_device/pluggable_device_factory.cc:271] Created TensorFlow device (/job:localhost/replica:0/task:0/device:GPU:0 with 0 MB memory) -> physical PluggableDevice (device: 0, name: METAL, pci bus id: <undefined>)\n"
     ]
    }
   ],
   "source": [
    "DATASET_NAMES = ('train','valid','test')\n",
    "CLASS_DIRECTORY_NAMES = ('class_fracture','class_no_fracture')\n",
    "DATASET_DIRECTORY = 'dataset'\n",
    "TOP_DIRECTORY_CLASSIFIFICATIONS = path.join(DATASET_DIRECTORY ,'categorised_images')\n",
    "\n",
    "#Hyperparameters\n",
    "OPTIMIZER = Adam\n",
    "LEARNING_RATE = 0.0001\n",
    "LOSS_FUNCTION = BinaryCrossentropy\n",
    "METRICS = [BinaryAccuracy(name='accuracy'), Precision(name='precision'), Recall(name='recall'), F1Score(name='f1'), TrueNegatives(name='tn'), TruePositives(name='tp'), FalseNegatives(name='fn'), FalsePositives(name='fp')]\n",
    "EPOCHS = 50\n",
    "BATCH_SIZE = 10\n",
    "VERBOSE = 1\n",
    "REGULARIZER=None\n",
    "VALIDATION_SPLIT = 0.2\n",
    "INPUT_SHAPE = (256,256,1)"
   ],
   "metadata": {
    "collapsed": false,
    "ExecuteTime": {
     "end_time": "2024-03-24T13:37:20.421820Z",
     "start_time": "2024-03-24T13:37:20.309859Z"
    }
   },
   "id": "404c424c39f2ba19",
   "execution_count": 2
  },
  {
   "cell_type": "code",
   "outputs": [],
   "source": [
    "def categorise_images(a_dataset_name):\n",
    "    #creates a directory structure  like: images/\n",
    "    #                                       class0/*.jpg\n",
    "    #                                       class1/*.jpg\n",
    "    #and copies the images into either leaf directory depending on their class label\n",
    "    #this puts the data into a format that keras can load into a dataset\n",
    "\n",
    "    fracture_directory = path.join(TOP_DIRECTORY_CLASSIFIFICATIONS, a_dataset_name,CLASS_DIRECTORY_NAMES[0])\n",
    "    print('fracture_directory', fracture_directory)\n",
    "    no_fracture_directory = path.join(TOP_DIRECTORY_CLASSIFIFICATIONS,a_dataset_name,CLASS_DIRECTORY_NAMES[-1])\n",
    "    print('no_fracture_directory', no_fracture_directory)\n",
    "\n",
    "    if path.exists(fracture_directory) == False:  \n",
    "        makedirs(fracture_directory) \n",
    "    if path.exists(no_fracture_directory) == False:  \n",
    "        makedirs(no_fracture_directory) \n",
    "\n",
    "    #read labels into pandas df\n",
    "    csv_filepath = path.join(DATASET_DIRECTORY, a_dataset_name, 'labels/labels.csv')\n",
    "    print('csv_filepath', csv_filepath)\n",
    "    df = pd.read_csv(path.join(csv_filepath))\n",
    "    df = df.set_index('filename')\n",
    "\n",
    "    #walk through files and copy file to relevant directory\n",
    "    images_dir = path.join(DATASET_DIRECTORY,a_dataset_name,'images')\n",
    "    print('images_dir', images_dir)\n",
    "    filenames = []\n",
    "    for (dirpath, dirnames, filenames) in walk(images_dir):\n",
    "        filenames.extend(filenames)\n",
    " \n",
    "    for filename in filenames:\n",
    "        #ignore mac os system file\n",
    "        if filename.endswith('.DS_Store'):\n",
    "            pass\n",
    "        elif df.loc[filename]['target'] == 1:\n",
    "            destination = path.join(fracture_directory, filename)\n",
    "        else:\n",
    "            destination = path.join(no_fracture_directory, filename)\n",
    "        source = path.join(images_dir, filename)\n",
    "        copyfile(source, destination)"
   ],
   "metadata": {
    "collapsed": false,
    "ExecuteTime": {
     "end_time": "2024-03-24T13:37:20.425646Z",
     "start_time": "2024-03-24T13:37:20.422455Z"
    }
   },
   "id": "7808fab058980626",
   "execution_count": 3
  },
  {
   "cell_type": "code",
   "outputs": [
    {
     "name": "stdout",
     "output_type": "stream",
     "text": [
      "fracture_directory dataset/categorised_images/train/class_fracture\n",
      "no_fracture_directory dataset/categorised_images/train/class_no_fracture\n",
      "csv_filepath dataset/train/labels/labels.csv\n",
      "images_dir dataset/train/images\n",
      "fracture_directory dataset/categorised_images/valid/class_fracture\n",
      "no_fracture_directory dataset/categorised_images/valid/class_no_fracture\n",
      "csv_filepath dataset/valid/labels/labels.csv\n",
      "images_dir dataset/valid/images\n",
      "fracture_directory dataset/categorised_images/test/class_fracture\n",
      "no_fracture_directory dataset/categorised_images/test/class_no_fracture\n",
      "csv_filepath dataset/test/labels/labels.csv\n",
      "images_dir dataset/test/images\n"
     ]
    }
   ],
   "source": [
    "for dataset_name in DATASET_NAMES:\n",
    "    categorise_images(dataset_name)"
   ],
   "metadata": {
    "collapsed": false,
    "ExecuteTime": {
     "end_time": "2024-03-24T13:37:22.208053Z",
     "start_time": "2024-03-24T13:37:20.426861Z"
    }
   },
   "id": "f5c76de94ffe9ac2",
   "execution_count": 4
  },
  {
   "cell_type": "code",
   "outputs": [],
   "source": [
    "#remove any non-jpg files in the directories\n",
    "def find_and_remove_non_jpg_files(a_folder_path):\n",
    "    #removes any non-jpg files in the provided directory\n",
    "    num_skipped = 0\n",
    "    for fname in listdir(a_folder_path):\n",
    "        fpath = path.join(a_folder_path, fname)\n",
    "        try:\n",
    "            fobj = open(fpath, \"rb\")\n",
    "            is_jfif = b\"JFIF\" in fobj.peek(10)\n",
    "        finally:\n",
    "            fobj.close()\n",
    "\n",
    "        if not is_jfif:\n",
    "            num_skipped += 1\n",
    "            # Delete corrupted image\n",
    "            print('removing non-image file: ' + fpath)\n",
    "            remove(fpath)\n",
    "\n",
    "    print(f\"Deleted {num_skipped} files.\")"
   ],
   "metadata": {
    "collapsed": false,
    "ExecuteTime": {
     "end_time": "2024-03-24T13:37:22.210721Z",
     "start_time": "2024-03-24T13:37:22.208694Z"
    }
   },
   "id": "2e6ae846be41469a",
   "execution_count": 5
  },
  {
   "cell_type": "code",
   "outputs": [
    {
     "name": "stdout",
     "output_type": "stream",
     "text": [
      "checking folder: dataset/categorised_images/train/class_fracture\n",
      "removing non-image file: dataset/categorised_images/train/class_fracture/image1_3184_png.rf.4eb5f5559a72bcbe1f369999d51bd15e.jpg\n",
      "Deleted 1 files.\n",
      "checking folder: dataset/categorised_images/train/class_no_fracture\n",
      "Deleted 0 files.\n",
      "checking folder: dataset/categorised_images/valid/class_fracture\n",
      "Deleted 0 files.\n",
      "checking folder: dataset/categorised_images/valid/class_no_fracture\n",
      "Deleted 0 files.\n",
      "checking folder: dataset/categorised_images/test/class_fracture\n",
      "Deleted 0 files.\n",
      "checking folder: dataset/categorised_images/test/class_no_fracture\n",
      "Deleted 0 files.\n",
      "checked 6 folders\n"
     ]
    }
   ],
   "source": [
    "#remove any non-processable files from the image directories\n",
    "folders_checked = 0\n",
    "for dataset_name in DATASET_NAMES:\n",
    "    for class_dir_name in CLASS_DIRECTORY_NAMES:\n",
    "        folder_path = path.join(TOP_DIRECTORY_CLASSIFIFICATIONS, dataset_name,class_dir_name)\n",
    "        print('checking folder: '+folder_path)\n",
    "        find_and_remove_non_jpg_files(folder_path)\n",
    "        folders_checked +=1\n",
    "print('checked', folders_checked, 'folders')"
   ],
   "metadata": {
    "collapsed": false,
    "ExecuteTime": {
     "end_time": "2024-03-24T13:37:22.289571Z",
     "start_time": "2024-03-24T13:37:22.211369Z"
    }
   },
   "id": "49474fce66f60773",
   "execution_count": 6
  },
  {
   "cell_type": "code",
   "outputs": [],
   "source": [
    "def load_images(dataset_name):\n",
    "    \n",
    "    return image_dataset_from_directory(\n",
    "    directory= path.join(TOP_DIRECTORY_CLASSIFIFICATIONS, dataset_name),\n",
    "    labels='inferred',\n",
    "    label_mode=\"binary\",\n",
    "    color_mode=\"grayscale\",\n",
    "    batch_size=BATCH_SIZE,\n",
    "    image_size=(256, 256),\n",
    "    shuffle=True,\n",
    "    seed=42,\n",
    "    validation_split=None,\n",
    "    subset=None,\n",
    "    interpolation=\"bilinear\",\n",
    "    follow_links=False\n",
    ")"
   ],
   "metadata": {
    "collapsed": false,
    "ExecuteTime": {
     "end_time": "2024-03-24T13:37:22.291962Z",
     "start_time": "2024-03-24T13:37:22.290126Z"
    }
   },
   "id": "f8c23c5868e51b36",
   "execution_count": 7
  },
  {
   "cell_type": "code",
   "outputs": [
    {
     "name": "stdout",
     "output_type": "stream",
     "text": [
      "Found 3630 files belonging to 2 classes.\n",
      "Found 169 files belonging to 2 classes.\n",
      "Found 348 files belonging to 2 classes.\n",
      "train_ds tf.Tensor(363, shape=(), dtype=int64)\n",
      "test_ds tf.Tensor(17, shape=(), dtype=int64)\n",
      "valid_ds tf.Tensor(35, shape=(), dtype=int64)\n",
      "combined_ds tf.Tensor(415, shape=(), dtype=int64)\n"
     ]
    }
   ],
   "source": [
    "#Load the images into datasets\n",
    "train_ds= load_images('train')\n",
    "test_ds = load_images('test')\n",
    "valid_ds = load_images('valid')\n",
    "print('train_ds', train_ds.cardinality())\n",
    "print('test_ds', test_ds.cardinality())\n",
    "print('valid_ds', valid_ds.cardinality())\n",
    "\n",
    "#create a combined dataset so the data can be shuffled and then split into training and test sets\n",
    "combined_ds = train_ds.concatenate(valid_ds).concatenate(test_ds)\n",
    "print('combined_ds', combined_ds.cardinality())\n",
    "\n",
    "#shuffle and split the combined dataset with an 80/20 train/test split\n",
    "#shuffled_train_ds, shuffled_test_ds = split_dataset(combined_ds, left_size=0.8, shuffle=True, seed=42)\n",
    "#print('shuffled_train_ds', shuffled_train_ds.cardinality())\n",
    "#print('shuffled_test_ds', shuffled_test_ds.cardinality())"
   ],
   "metadata": {
    "collapsed": false,
    "ExecuteTime": {
     "end_time": "2024-03-24T13:37:26.710605Z",
     "start_time": "2024-03-24T13:37:26.514654Z"
    }
   },
   "id": "847f781eaa506845",
   "execution_count": 8
  },
  {
   "cell_type": "code",
   "outputs": [
    {
     "name": "stderr",
     "output_type": "stream",
     "text": [
      "2024-03-24 13:37:33.582870: W tensorflow/core/framework/local_rendezvous.cc:404] Local rendezvous is aborting with status: OUT_OF_RANGE: End of sequence\n"
     ]
    },
    {
     "name": "stdout",
     "output_type": "stream",
     "text": [
      "X_train (3317, 256, 256, 1)\n",
      "X_test (830, 256, 256, 1)\n",
      "y_train (3317, 1)\n",
      "y_test (830, 1)\n"
     ]
    }
   ],
   "source": [
    "combined_images = []\n",
    "combined_labels = []\n",
    "for images, labels in combined_ds.as_numpy_iterator():\n",
    "    combined_images.extend(images)\n",
    "    combined_labels.extend(labels)\n",
    "combined_images = np.array(combined_images)\n",
    "combined_labels = np.array(combined_labels)\n",
    "\n",
    "X_train, X_test, y_train, y_test = train_test_split(combined_images, combined_labels, test_size=0.2, random_state=42)\n",
    "print('X_train', X_train.shape)\n",
    "print('X_test', X_test.shape)\n",
    "print('y_train', y_train.shape)\n",
    "print('y_test', y_test.shape)"
   ],
   "metadata": {
    "collapsed": false,
    "ExecuteTime": {
     "end_time": "2024-03-24T13:37:34.043214Z",
     "start_time": "2024-03-24T13:37:33.179342Z"
    }
   },
   "id": "2c21f18812b2bacc",
   "execution_count": 9
  },
  {
   "cell_type": "code",
   "outputs": [
    {
     "data": {
      "text/plain": "<Figure size 640x480 with 1 Axes>",
      "image/png": "[encoded data removed]"
     },
     "metadata": {},
     "output_type": "display_data"
    }
   ],
   "source": [
    "random_training_image = choice(X_train)\n",
    "plt.imshow(random_training_image, cmap='gray')\n",
    "plt.show()"
   ],
   "metadata": {
    "collapsed": false,
    "ExecuteTime": {
     "end_time": "2024-03-24T13:37:36.435859Z",
     "start_time": "2024-03-24T13:37:36.271744Z"
    }
   },
   "id": "9d1d9c0567215a28",
   "execution_count": 10
  },
  {
   "cell_type": "code",
   "outputs": [],
   "source": [
    "def create_model(input_shape):\n",
    "\n",
    "    #create a Sequential  model\n",
    "    model = Sequential()\n",
    "\n",
    "    #Add the layers\n",
    "    model.add(Input(input_shape))\n",
    "    model.add(Rescaling(1.0 / 255))\n",
    "    #Add 2 convolutional layers paired with max pooling layers\n",
    "    model.add(Conv2D(filters = 64, kernel_size = (3,3), strides = (1,1), padding = 'valid', activation = 'relu'))\n",
    "    model.add(MaxPooling2D(pool_size = (2,2)))\n",
    "    model.add(Conv2D(filters = 128, kernel_size = (3,3), strides = (1,1), padding = 'valid', activation = 'relu'))\n",
    "    model.add(MaxPooling2D(pool_size = (2,2)))\n",
    "    model.add(Conv2D(filters = 256, kernel_size = (3,3), strides = (1,1), padding = 'valid', activation = 'relu'))\n",
    "    model.add(MaxPooling2D(pool_size = (2,2)))\n",
    "    #Flatten the output so that it can be processed as a Vector by the subsequent Dense layer\n",
    "    model.add(Flatten())\n",
    "\n",
    "    #add a fully connected layer with  64 neurons and a relu activation function outut shape = 64\n",
    "    model.add(Dense(256, kernel_regularizer=REGULARIZER, activation='relu'))\n",
    "    #add output layer with a single neuron and a sigmoind activation to represent the binary classification\n",
    "    model.add(Dense(1, kernel_regularizer=REGULARIZER, activation='sigmoid'))\n",
    "\n",
    "    return model"
   ],
   "metadata": {
    "collapsed": false,
    "ExecuteTime": {
     "end_time": "2024-03-24T13:37:38.182620Z",
     "start_time": "2024-03-24T13:37:38.178451Z"
    }
   },
   "id": "eee079ee334a229e",
   "execution_count": 11
  },
  {
   "cell_type": "code",
   "outputs": [
    {
     "data": {
      "text/plain": "\u001B[1mModel: \"sequential\"\u001B[0m\n",
      "text/html": "<pre style=\"white-space:pre;overflow-x:auto;line-height:normal;font-family:Menlo,'DejaVu Sans Mono',consolas,'Courier New',monospace\"><span style=\"font-weight: bold\">Model: \"sequential\"</span>\n</pre>\n"
     },
     "metadata": {},
     "output_type": "display_data"
    },
    {
     "data": {
      "text/plain": "┏━━━━━━━━━━━━━━━━━━━━━━━━━━━━━━━━━┳━━━━━━━━━━━━━━━━━━━━━━━━┳━━━━━━━━━━━━━━━┓\n┃\u001B[1m \u001B[0m\u001B[1mLayer (type)                   \u001B[0m\u001B[1m \u001B[0m┃\u001B[1m \u001B[0m\u001B[1mOutput Shape          \u001B[0m\u001B[1m \u001B[0m┃\u001B[1m \u001B[0m\u001B[1m      Param #\u001B[0m\u001B[1m \u001B[0m┃\n┡━━━━━━━━━━━━━━━━━━━━━━━━━━━━━━━━━╇━━━━━━━━━━━━━━━━━━━━━━━━╇━━━━━━━━━━━━━━━┩\n│ rescaling (\u001B[38;5;33mRescaling\u001B[0m)           │ (\u001B[38;5;45mNone\u001B[0m, \u001B[38;5;34m256\u001B[0m, \u001B[38;5;34m256\u001B[0m, \u001B[38;5;34m1\u001B[0m)    │             \u001B[38;5;34m0\u001B[0m │\n├─────────────────────────────────┼────────────────────────┼───────────────┤\n│ conv2d (\u001B[38;5;33mConv2D\u001B[0m)                 │ (\u001B[38;5;45mNone\u001B[0m, \u001B[38;5;34m254\u001B[0m, \u001B[38;5;34m254\u001B[0m, \u001B[38;5;34m64\u001B[0m)   │           \u001B[38;5;34m640\u001B[0m │\n├─────────────────────────────────┼────────────────────────┼───────────────┤\n│ max_pooling2d (\u001B[38;5;33mMaxPooling2D\u001B[0m)    │ (\u001B[38;5;45mNone\u001B[0m, \u001B[38;5;34m127\u001B[0m, \u001B[38;5;34m127\u001B[0m, \u001B[38;5;34m64\u001B[0m)   │             \u001B[38;5;34m0\u001B[0m │\n├─────────────────────────────────┼────────────────────────┼───────────────┤\n│ conv2d_1 (\u001B[38;5;33mConv2D\u001B[0m)               │ (\u001B[38;5;45mNone\u001B[0m, \u001B[38;5;34m125\u001B[0m, \u001B[38;5;34m125\u001B[0m, \u001B[38;5;34m128\u001B[0m)  │        \u001B[38;5;34m73,856\u001B[0m │\n├─────────────────────────────────┼────────────────────────┼───────────────┤\n│ max_pooling2d_1 (\u001B[38;5;33mMaxPooling2D\u001B[0m)  │ (\u001B[38;5;45mNone\u001B[0m, \u001B[38;5;34m62\u001B[0m, \u001B[38;5;34m62\u001B[0m, \u001B[38;5;34m128\u001B[0m)    │             \u001B[38;5;34m0\u001B[0m │\n├─────────────────────────────────┼────────────────────────┼───────────────┤\n│ conv2d_2 (\u001B[38;5;33mConv2D\u001B[0m)               │ (\u001B[38;5;45mNone\u001B[0m, \u001B[38;5;34m60\u001B[0m, \u001B[38;5;34m60\u001B[0m, \u001B[38;5;34m256\u001B[0m)    │       \u001B[38;5;34m295,168\u001B[0m │\n├─────────────────────────────────┼────────────────────────┼───────────────┤\n│ max_pooling2d_2 (\u001B[38;5;33mMaxPooling2D\u001B[0m)  │ (\u001B[38;5;45mNone\u001B[0m, \u001B[38;5;34m30\u001B[0m, \u001B[38;5;34m30\u001B[0m, \u001B[38;5;34m256\u001B[0m)    │             \u001B[38;5;34m0\u001B[0m │\n├─────────────────────────────────┼────────────────────────┼───────────────┤\n│ flatten (\u001B[38;5;33mFlatten\u001B[0m)               │ (\u001B[38;5;45mNone\u001B[0m, \u001B[38;5;34m230400\u001B[0m)         │             \u001B[38;5;34m0\u001B[0m │\n├─────────────────────────────────┼────────────────────────┼───────────────┤\n│ dense (\u001B[38;5;33mDense\u001B[0m)                   │ (\u001B[38;5;45mNone\u001B[0m, \u001B[38;5;34m256\u001B[0m)            │    \u001B[38;5;34m58,982,656\u001B[0m │\n├─────────────────────────────────┼────────────────────────┼───────────────┤\n│ dense_1 (\u001B[38;5;33mDense\u001B[0m)                 │ (\u001B[38;5;45mNone\u001B[0m, \u001B[38;5;34m1\u001B[0m)              │           \u001B[38;5;34m257\u001B[0m │\n└─────────────────────────────────┴────────────────────────┴───────────────┘\n",
      "text/html": "<pre style=\"white-space:pre;overflow-x:auto;line-height:normal;font-family:Menlo,'DejaVu Sans Mono',consolas,'Courier New',monospace\">┏━━━━━━━━━━━━━━━━━━━━━━━━━━━━━━━━━┳━━━━━━━━━━━━━━━━━━━━━━━━┳━━━━━━━━━━━━━━━┓\n┃<span style=\"font-weight: bold\"> Layer (type)                    </span>┃<span style=\"font-weight: bold\"> Output Shape           </span>┃<span style=\"font-weight: bold\">       Param # </span>┃\n┡━━━━━━━━━━━━━━━━━━━━━━━━━━━━━━━━━╇━━━━━━━━━━━━━━━━━━━━━━━━╇━━━━━━━━━━━━━━━┩\n│ rescaling (<span style=\"color: #0087ff; text-decoration-color: #0087ff\">Rescaling</span>)           │ (<span style=\"color: #00d7ff; text-decoration-color: #00d7ff\">None</span>, <span style=\"color: #00af00; text-decoration-color: #00af00\">256</span>, <span style=\"color: #00af00; text-decoration-color: #00af00\">256</span>, <span style=\"color: #00af00; text-decoration-color: #00af00\">1</span>)    │             <span style=\"color: #00af00; text-decoration-color: #00af00\">0</span> │\n├─────────────────────────────────┼────────────────────────┼───────────────┤\n│ conv2d (<span style=\"color: #0087ff; text-decoration-color: #0087ff\">Conv2D</span>)                 │ (<span style=\"color: #00d7ff; text-decoration-color: #00d7ff\">None</span>, <span style=\"color: #00af00; text-decoration-color: #00af00\">254</span>, <span style=\"color: #00af00; text-decoration-color: #00af00\">254</span>, <span style=\"color: #00af00; text-decoration-color: #00af00\">64</span>)   │           <span style=\"color: #00af00; text-decoration-color: #00af00\">640</span> │\n├─────────────────────────────────┼────────────────────────┼───────────────┤\n│ max_pooling2d (<span style=\"color: #0087ff; text-decoration-color: #0087ff\">MaxPooling2D</span>)    │ (<span style=\"color: #00d7ff; text-decoration-color: #00d7ff\">None</span>, <span style=\"color: #00af00; text-decoration-color: #00af00\">127</span>, <span style=\"color: #00af00; text-decoration-color: #00af00\">127</span>, <span style=\"color: #00af00; text-decoration-color: #00af00\">64</span>)   │             <span style=\"color: #00af00; text-decoration-color: #00af00\">0</span> │\n├─────────────────────────────────┼────────────────────────┼───────────────┤\n│ conv2d_1 (<span style=\"color: #0087ff; text-decoration-color: #0087ff\">Conv2D</span>)               │ (<span style=\"color: #00d7ff; text-decoration-color: #00d7ff\">None</span>, <span style=\"color: #00af00; text-decoration-color: #00af00\">125</span>, <span style=\"color: #00af00; text-decoration-color: #00af00\">125</span>, <span style=\"color: #00af00; text-decoration-color: #00af00\">128</span>)  │        <span style=\"color: #00af00; text-decoration-color: #00af00\">73,856</span> │\n├─────────────────────────────────┼────────────────────────┼───────────────┤\n│ max_pooling2d_1 (<span style=\"color: #0087ff; text-decoration-color: #0087ff\">MaxPooling2D</span>)  │ (<span style=\"color: #00d7ff; text-decoration-color: #00d7ff\">None</span>, <span style=\"color: #00af00; text-decoration-color: #00af00\">62</span>, <span style=\"color: #00af00; text-decoration-color: #00af00\">62</span>, <span style=\"color: #00af00; text-decoration-color: #00af00\">128</span>)    │             <span style=\"color: #00af00; text-decoration-color: #00af00\">0</span> │\n├─────────────────────────────────┼────────────────────────┼───────────────┤\n│ conv2d_2 (<span style=\"color: #0087ff; text-decoration-color: #0087ff\">Conv2D</span>)               │ (<span style=\"color: #00d7ff; text-decoration-color: #00d7ff\">None</span>, <span style=\"color: #00af00; text-decoration-color: #00af00\">60</span>, <span style=\"color: #00af00; text-decoration-color: #00af00\">60</span>, <span style=\"color: #00af00; text-decoration-color: #00af00\">256</span>)    │       <span style=\"color: #00af00; text-decoration-color: #00af00\">295,168</span> │\n├─────────────────────────────────┼────────────────────────┼───────────────┤\n│ max_pooling2d_2 (<span style=\"color: #0087ff; text-decoration-color: #0087ff\">MaxPooling2D</span>)  │ (<span style=\"color: #00d7ff; text-decoration-color: #00d7ff\">None</span>, <span style=\"color: #00af00; text-decoration-color: #00af00\">30</span>, <span style=\"color: #00af00; text-decoration-color: #00af00\">30</span>, <span style=\"color: #00af00; text-decoration-color: #00af00\">256</span>)    │             <span style=\"color: #00af00; text-decoration-color: #00af00\">0</span> │\n├─────────────────────────────────┼────────────────────────┼───────────────┤\n│ flatten (<span style=\"color: #0087ff; text-decoration-color: #0087ff\">Flatten</span>)               │ (<span style=\"color: #00d7ff; text-decoration-color: #00d7ff\">None</span>, <span style=\"color: #00af00; text-decoration-color: #00af00\">230400</span>)         │             <span style=\"color: #00af00; text-decoration-color: #00af00\">0</span> │\n├─────────────────────────────────┼────────────────────────┼───────────────┤\n│ dense (<span style=\"color: #0087ff; text-decoration-color: #0087ff\">Dense</span>)                   │ (<span style=\"color: #00d7ff; text-decoration-color: #00d7ff\">None</span>, <span style=\"color: #00af00; text-decoration-color: #00af00\">256</span>)            │    <span style=\"color: #00af00; text-decoration-color: #00af00\">58,982,656</span> │\n├─────────────────────────────────┼────────────────────────┼───────────────┤\n│ dense_1 (<span style=\"color: #0087ff; text-decoration-color: #0087ff\">Dense</span>)                 │ (<span style=\"color: #00d7ff; text-decoration-color: #00d7ff\">None</span>, <span style=\"color: #00af00; text-decoration-color: #00af00\">1</span>)              │           <span style=\"color: #00af00; text-decoration-color: #00af00\">257</span> │\n└─────────────────────────────────┴────────────────────────┴───────────────┘\n</pre>\n"
     },
     "metadata": {},
     "output_type": "display_data"
    },
    {
     "data": {
      "text/plain": "\u001B[1m Total params: \u001B[0m\u001B[38;5;34m59,352,577\u001B[0m (226.41 MB)\n",
      "text/html": "<pre style=\"white-space:pre;overflow-x:auto;line-height:normal;font-family:Menlo,'DejaVu Sans Mono',consolas,'Courier New',monospace\"><span style=\"font-weight: bold\"> Total params: </span><span style=\"color: #00af00; text-decoration-color: #00af00\">59,352,577</span> (226.41 MB)\n</pre>\n"
     },
     "metadata": {},
     "output_type": "display_data"
    },
    {
     "data": {
      "text/plain": "\u001B[1m Trainable params: \u001B[0m\u001B[38;5;34m59,352,577\u001B[0m (226.41 MB)\n",
      "text/html": "<pre style=\"white-space:pre;overflow-x:auto;line-height:normal;font-family:Menlo,'DejaVu Sans Mono',consolas,'Courier New',monospace\"><span style=\"font-weight: bold\"> Trainable params: </span><span style=\"color: #00af00; text-decoration-color: #00af00\">59,352,577</span> (226.41 MB)\n</pre>\n"
     },
     "metadata": {},
     "output_type": "display_data"
    },
    {
     "data": {
      "text/plain": "\u001B[1m Non-trainable params: \u001B[0m\u001B[38;5;34m0\u001B[0m (0.00 B)\n",
      "text/html": "<pre style=\"white-space:pre;overflow-x:auto;line-height:normal;font-family:Menlo,'DejaVu Sans Mono',consolas,'Courier New',monospace\"><span style=\"font-weight: bold\"> Non-trainable params: </span><span style=\"color: #00af00; text-decoration-color: #00af00\">0</span> (0.00 B)\n</pre>\n"
     },
     "metadata": {},
     "output_type": "display_data"
    }
   ],
   "source": [
    "model = create_model(INPUT_SHAPE)\n",
    "model.summary()"
   ],
   "metadata": {
    "collapsed": false,
    "ExecuteTime": {
     "end_time": "2024-03-24T13:37:40.506314Z",
     "start_time": "2024-03-24T13:37:40.237255Z"
    }
   },
   "id": "ad9df84dec079e81",
   "execution_count": 12
  },
  {
   "cell_type": "code",
   "outputs": [],
   "source": [
    "def train_model(X_train, y_train):\n",
    "    \n",
    "    callbacks = [EarlyStopping(monitor='val_accuracy', patience=5, verbose=VERBOSE, restore_best_weights=True)]\n",
    "    \n",
    "    model = create_model(INPUT_SHAPE)\n",
    "    model.compile(optimizer=OPTIMIZER(LEARNING_RATE), loss=LOSS_FUNCTION(), metrics=METRICS)\n",
    "    model_history = model.fit(\n",
    "                            X_train, y_train,\n",
    "                            epochs=EPOCHS,\n",
    "                            batch_size=BATCH_SIZE,\n",
    "                            validation_split=VALIDATION_SPLIT,\n",
    "                            verbose=VERBOSE,\n",
    "                            callbacks=callbacks)\n",
    "    clear_session()\n",
    "\n",
    "    return (model, model_history)"
   ],
   "metadata": {
    "collapsed": false,
    "ExecuteTime": {
     "end_time": "2024-03-24T13:37:42.549483Z",
     "start_time": "2024-03-24T13:37:42.546271Z"
    }
   },
   "id": "d9ddf7b5714a245d",
   "execution_count": 13
  },
  {
   "cell_type": "code",
   "outputs": [
    {
     "name": "stdout",
     "output_type": "stream",
     "text": [
      "Epoch 1/50\n"
     ]
    },
    {
     "name": "stderr",
     "output_type": "stream",
     "text": [
      "2024-03-24 13:37:46.130719: I tensorflow/core/grappler/optimizers/custom_graph_optimizer_registry.cc:117] Plugin optimizer for device_type GPU is enabled.\n"
     ]
    },
    {
     "name": "stdout",
     "output_type": "stream",
     "text": [
      "\u001B[1m266/266\u001B[0m \u001B[32m━━━━━━━━━━━━━━━━━━━━\u001B[0m\u001B[37m\u001B[0m \u001B[1m36s\u001B[0m 126ms/step - accuracy: 0.5272 - f1: 0.6655 - fn: 314.0337 - fp: 314.5206 - loss: 0.6977 - precision: 0.5259 - recall: 0.5273 - tn: 361.5468 - tp: 349.8090 - val_accuracy: 0.5587 - val_f1: 0.6942 - val_fn: 17.0000 - val_fp: 276.0000 - val_loss: 0.6798 - val_precision: 0.5490 - val_recall: 0.9518 - val_tn: 35.0000 - val_tp: 336.0000\n",
      "Epoch 2/50\n",
      "\u001B[1m266/266\u001B[0m \u001B[32m━━━━━━━━━━━━━━━━━━━━\u001B[0m\u001B[37m\u001B[0m \u001B[1m31s\u001B[0m 117ms/step - accuracy: 0.5939 - f1: 0.6537 - fn: 240.8315 - fp: 302.6030 - loss: 0.6682 - precision: 0.5723 - recall: 0.6533 - tn: 380.0824 - tp: 416.3932 - val_accuracy: 0.6054 - val_f1: 0.6942 - val_fn: 161.0000 - val_fp: 101.0000 - val_loss: 0.6603 - val_precision: 0.6553 - val_recall: 0.5439 - val_tn: 210.0000 - val_tp: 192.0000\n",
      "Epoch 3/50\n",
      "\u001B[1m266/266\u001B[0m \u001B[32m━━━━━━━━━━━━━━━━━━━━\u001B[0m\u001B[37m\u001B[0m \u001B[1m31s\u001B[0m 117ms/step - accuracy: 0.6819 - f1: 0.6787 - fn: 203.4569 - fp: 218.7715 - loss: 0.5835 - precision: 0.6850 - recall: 0.7049 - tn: 447.1198 - tp: 470.5618 - val_accuracy: 0.6596 - val_f1: 0.6942 - val_fn: 107.0000 - val_fp: 119.0000 - val_loss: 0.6402 - val_precision: 0.6740 - val_recall: 0.6969 - val_tn: 192.0000 - val_tp: 246.0000\n",
      "Epoch 4/50\n",
      "\u001B[1m266/266\u001B[0m \u001B[32m━━━━━━━━━━━━━━━━━━━━\u001B[0m\u001B[37m\u001B[0m \u001B[1m31s\u001B[0m 116ms/step - accuracy: 0.7815 - f1: 0.6611 - fn: 145.7453 - fp: 150.9700 - loss: 0.4628 - precision: 0.7770 - recall: 0.7818 - tn: 524.0262 - tp: 519.1685 - val_accuracy: 0.6295 - val_f1: 0.6942 - val_fn: 133.0000 - val_fp: 113.0000 - val_loss: 0.7614 - val_precision: 0.6607 - val_recall: 0.6232 - val_tn: 198.0000 - val_tp: 220.0000\n",
      "Epoch 5/50\n",
      "\u001B[1m266/266\u001B[0m \u001B[32m━━━━━━━━━━━━━━━━━━━━\u001B[0m\u001B[37m\u001B[0m \u001B[1m31s\u001B[0m 116ms/step - accuracy: 0.8747 - f1: 0.6612 - fn: 83.4120 - fp: 81.6966 - loss: 0.2914 - precision: 0.8752 - recall: 0.8709 - tn: 599.0824 - tp: 575.7191 - val_accuracy: 0.6581 - val_f1: 0.6942 - val_fn: 120.0000 - val_fp: 107.0000 - val_loss: 0.9216 - val_precision: 0.6853 - val_recall: 0.6601 - val_tn: 204.0000 - val_tp: 233.0000\n",
      "Epoch 6/50\n",
      "\u001B[1m266/266\u001B[0m \u001B[32m━━━━━━━━━━━━━━━━━━━━\u001B[0m\u001B[37m\u001B[0m \u001B[1m31s\u001B[0m 116ms/step - accuracy: 0.9434 - f1: 0.6524 - fn: 36.8352 - fp: 36.9288 - loss: 0.1553 - precision: 0.9381 - recall: 0.9438 - tn: 642.0749 - tp: 624.0712 - val_accuracy: 0.6551 - val_f1: 0.6942 - val_fn: 144.0000 - val_fp: 85.0000 - val_loss: 1.0492 - val_precision: 0.7109 - val_recall: 0.5921 - val_tn: 226.0000 - val_tp: 209.0000\n",
      "Epoch 7/50\n",
      "\u001B[1m266/266\u001B[0m \u001B[32m━━━━━━━━━━━━━━━━━━━━\u001B[0m\u001B[37m\u001B[0m \u001B[1m31s\u001B[0m 116ms/step - accuracy: 0.9748 - f1: 0.6716 - fn: 17.4157 - fp: 16.7491 - loss: 0.0733 - precision: 0.9756 - recall: 0.9746 - tn: 656.6068 - tp: 649.1385 - val_accuracy: 0.6792 - val_f1: 0.6949 - val_fn: 108.0000 - val_fp: 105.0000 - val_loss: 1.3021 - val_precision: 0.7000 - val_recall: 0.6941 - val_tn: 206.0000 - val_tp: 245.0000\n",
      "Epoch 8/50\n",
      "\u001B[1m266/266\u001B[0m \u001B[32m━━━━━━━━━━━━━━━━━━━━\u001B[0m\u001B[37m\u001B[0m \u001B[1m31s\u001B[0m 116ms/step - accuracy: 0.9905 - f1: 0.6610 - fn: 6.1648 - fp: 7.6367 - loss: 0.0392 - precision: 0.9890 - recall: 0.9919 - tn: 666.7153 - tp: 659.3932 - val_accuracy: 0.6792 - val_f1: 0.6963 - val_fn: 141.0000 - val_fp: 72.0000 - val_loss: 1.5912 - val_precision: 0.7465 - val_recall: 0.6006 - val_tn: 239.0000 - val_tp: 212.0000\n",
      "Epoch 9/50\n",
      "\u001B[1m266/266\u001B[0m \u001B[32m━━━━━━━━━━━━━━━━━━━━\u001B[0m\u001B[37m\u001B[0m \u001B[1m31s\u001B[0m 116ms/step - accuracy: 0.9959 - f1: 0.6616 - fn: 3.4419 - fp: 2.6779 - loss: 0.0195 - precision: 0.9962 - recall: 0.9954 - tn: 681.7565 - tp: 652.0337 - val_accuracy: 0.6642 - val_f1: 0.6957 - val_fn: 128.0000 - val_fp: 95.0000 - val_loss: 1.8837 - val_precision: 0.7031 - val_recall: 0.6374 - val_tn: 216.0000 - val_tp: 225.0000\n",
      "Epoch 10/50\n",
      "\u001B[1m266/266\u001B[0m \u001B[32m━━━━━━━━━━━━━━━━━━━━\u001B[0m\u001B[37m\u001B[0m \u001B[1m32s\u001B[0m 119ms/step - accuracy: 0.9992 - f1: 0.6906 - fn: 0.4906 - fp: 0.7678 - loss: 0.0071 - precision: 0.9990 - recall: 0.9995 - tn: 652.2247 - tp: 686.4269 - val_accuracy: 0.6732 - val_f1: 0.6964 - val_fn: 84.0000 - val_fp: 133.0000 - val_loss: 2.0692 - val_precision: 0.6692 - val_recall: 0.7620 - val_tn: 178.0000 - val_tp: 269.0000\n",
      "Epoch 11/50\n",
      "\u001B[1m266/266\u001B[0m \u001B[32m━━━━━━━━━━━━━━━━━━━━\u001B[0m\u001B[37m\u001B[0m \u001B[1m32s\u001B[0m 120ms/step - accuracy: 1.0000 - f1: 0.6842 - fn: 0.0000e+00 - fp: 0.0000e+00 - loss: 0.0031 - precision: 1.0000 - recall: 1.0000 - tn: 666.5505 - tp: 673.3596 - val_accuracy: 0.6822 - val_f1: 0.7001 - val_fn: 115.0000 - val_fp: 96.0000 - val_loss: 2.2080 - val_precision: 0.7126 - val_recall: 0.6742 - val_tn: 215.0000 - val_tp: 238.0000\n",
      "Epoch 12/50\n",
      "\u001B[1m266/266\u001B[0m \u001B[32m━━━━━━━━━━━━━━━━━━━━\u001B[0m\u001B[37m\u001B[0m \u001B[1m31s\u001B[0m 118ms/step - accuracy: 1.0000 - f1: 0.6941 - fn: 0.0000e+00 - fp: 0.0000e+00 - loss: 0.0014 - precision: 1.0000 - recall: 1.0000 - tn: 666.9251 - tp: 672.9850 - val_accuracy: 0.6807 - val_f1: 0.6977 - val_fn: 115.0000 - val_fp: 97.0000 - val_loss: 2.3626 - val_precision: 0.7104 - val_recall: 0.6742 - val_tn: 214.0000 - val_tp: 238.0000\n",
      "Epoch 13/50\n",
      "\u001B[1m266/266\u001B[0m \u001B[32m━━━━━━━━━━━━━━━━━━━━\u001B[0m\u001B[37m\u001B[0m \u001B[1m31s\u001B[0m 115ms/step - accuracy: 1.0000 - f1: 0.6919 - fn: 0.0000e+00 - fp: 0.0000e+00 - loss: 6.3304e-04 - precision: 1.0000 - recall: 1.0000 - tn: 668.9026 - tp: 671.0075 - val_accuracy: 0.6807 - val_f1: 0.6978 - val_fn: 114.0000 - val_fp: 98.0000 - val_loss: 2.4482 - val_precision: 0.7092 - val_recall: 0.6771 - val_tn: 213.0000 - val_tp: 239.0000\n",
      "Epoch 14/50\n",
      "\u001B[1m266/266\u001B[0m \u001B[32m━━━━━━━━━━━━━━━━━━━━\u001B[0m\u001B[37m\u001B[0m \u001B[1m30s\u001B[0m 114ms/step - accuracy: 1.0000 - f1: 0.7201 - fn: 0.0000e+00 - fp: 0.0000e+00 - loss: 4.2350e-04 - precision: 1.0000 - recall: 1.0000 - tn: 663.3146 - tp: 676.5955 - val_accuracy: 0.6762 - val_f1: 0.7007 - val_fn: 120.0000 - val_fp: 95.0000 - val_loss: 2.5560 - val_precision: 0.7104 - val_recall: 0.6601 - val_tn: 216.0000 - val_tp: 233.0000\n",
      "Epoch 15/50\n",
      "\u001B[1m266/266\u001B[0m \u001B[32m━━━━━━━━━━━━━━━━━━━━\u001B[0m\u001B[37m\u001B[0m \u001B[1m31s\u001B[0m 115ms/step - accuracy: 1.0000 - f1: 0.6990 - fn: 0.0000e+00 - fp: 0.0000e+00 - loss: 2.9606e-04 - precision: 1.0000 - recall: 1.0000 - tn: 679.5992 - tp: 660.3109 - val_accuracy: 0.6837 - val_f1: 0.7021 - val_fn: 117.0000 - val_fp: 93.0000 - val_loss: 2.6250 - val_precision: 0.7173 - val_recall: 0.6686 - val_tn: 218.0000 - val_tp: 236.0000\n",
      "Epoch 16/50\n",
      "\u001B[1m266/266\u001B[0m \u001B[32m━━━━━━━━━━━━━━━━━━━━\u001B[0m\u001B[37m\u001B[0m \u001B[1m31s\u001B[0m 115ms/step - accuracy: 1.0000 - f1: 0.7102 - fn: 0.0000e+00 - fp: 0.0000e+00 - loss: 2.2113e-04 - precision: 1.0000 - recall: 1.0000 - tn: 669.5319 - tp: 670.3783 - val_accuracy: 0.6792 - val_f1: 0.7029 - val_fn: 117.0000 - val_fp: 96.0000 - val_loss: 2.6954 - val_precision: 0.7108 - val_recall: 0.6686 - val_tn: 215.0000 - val_tp: 236.0000\n",
      "Epoch 17/50\n",
      "\u001B[1m266/266\u001B[0m \u001B[32m━━━━━━━━━━━━━━━━━━━━\u001B[0m\u001B[37m\u001B[0m \u001B[1m31s\u001B[0m 115ms/step - accuracy: 1.0000 - f1: 0.7033 - fn: 0.0000e+00 - fp: 0.0000e+00 - loss: 1.8527e-04 - precision: 1.0000 - recall: 1.0000 - tn: 690.1498 - tp: 649.7603 - val_accuracy: 0.6792 - val_f1: 0.7023 - val_fn: 117.0000 - val_fp: 96.0000 - val_loss: 2.7604 - val_precision: 0.7108 - val_recall: 0.6686 - val_tn: 215.0000 - val_tp: 236.0000\n",
      "Epoch 18/50\n",
      "\u001B[1m266/266\u001B[0m \u001B[32m━━━━━━━━━━━━━━━━━━━━\u001B[0m\u001B[37m\u001B[0m \u001B[1m31s\u001B[0m 115ms/step - accuracy: 1.0000 - f1: 0.7277 - fn: 0.0000e+00 - fp: 0.0000e+00 - loss: 1.3026e-04 - precision: 1.0000 - recall: 1.0000 - tn: 668.5056 - tp: 671.4045 - val_accuracy: 0.6792 - val_f1: 0.7023 - val_fn: 114.0000 - val_fp: 99.0000 - val_loss: 2.7949 - val_precision: 0.7071 - val_recall: 0.6771 - val_tn: 212.0000 - val_tp: 239.0000\n",
      "Epoch 19/50\n",
      "\u001B[1m266/266\u001B[0m \u001B[32m━━━━━━━━━━━━━━━━━━━━\u001B[0m\u001B[37m\u001B[0m \u001B[1m31s\u001B[0m 116ms/step - accuracy: 1.0000 - f1: 0.7200 - fn: 0.0000e+00 - fp: 0.0000e+00 - loss: 1.1061e-04 - precision: 1.0000 - recall: 1.0000 - tn: 666.1461 - tp: 673.7640 - val_accuracy: 0.6792 - val_f1: 0.7016 - val_fn: 117.0000 - val_fp: 96.0000 - val_loss: 2.8649 - val_precision: 0.7108 - val_recall: 0.6686 - val_tn: 215.0000 - val_tp: 236.0000\n",
      "Epoch 20/50\n",
      "\u001B[1m266/266\u001B[0m \u001B[32m━━━━━━━━━━━━━━━━━━━━\u001B[0m\u001B[37m\u001B[0m \u001B[1m31s\u001B[0m 116ms/step - accuracy: 1.0000 - f1: 0.7154 - fn: 0.0000e+00 - fp: 0.0000e+00 - loss: 7.6305e-05 - precision: 1.0000 - recall: 1.0000 - tn: 677.7116 - tp: 662.1985 - val_accuracy: 0.6792 - val_f1: 0.7009 - val_fn: 114.0000 - val_fp: 99.0000 - val_loss: 2.9176 - val_precision: 0.7071 - val_recall: 0.6771 - val_tn: 212.0000 - val_tp: 239.0000\n",
      "Epoch 20: early stopping\n",
      "Restoring model weights from the end of the best epoch: 15.\n"
     ]
    }
   ],
   "source": [
    "model, model_history = train_model(X_train, y_train)"
   ],
   "metadata": {
    "collapsed": false,
    "ExecuteTime": {
     "end_time": "2024-03-24T13:48:10.211227Z",
     "start_time": "2024-03-24T13:37:45.009713Z"
    }
   },
   "id": "e5c42d1e931fe2b2",
   "execution_count": 14
  },
  {
   "cell_type": "code",
   "outputs": [
    {
     "data": {
      "text/plain": "<Figure size 1200x400 with 2 Axes>",
      "image/png": "[encoded data removed]"
     },
     "metadata": {},
     "output_type": "display_data"
    }
   ],
   "source": [
    "#plot the model accuracy and lo ss]\n",
    "epochs = len(model_history.history['accuracy'])\n",
    "train_accuracy = model_history.history['accuracy']\n",
    "valid_accuracy = model_history.history['val_accuracy']\n",
    "train_loss = model_history.history['loss']\n",
    "valid_loss = model_history.history['val_loss']\n",
    "\n",
    "fig, (accuracy, loss) = plt.subplots(1, 2, sharex=True, sharey=False)\n",
    "fig.set_size_inches(12,4 )\n",
    "accuracy.plot(range(1, epochs+1), valid_accuracy) \n",
    "accuracy.plot(range(1, epochs+1), train_accuracy)  \n",
    "accuracy.set_ylabel('accuracy')\n",
    "accuracy.set_xlabel('epoch')\n",
    "accuracy.legend(['validation','train'], loc='upper left')\n",
    "accuracy.set_title('Train and Validation Accuracy')\n",
    "\n",
    "loss.plot(range(1, epochs+1), valid_loss)\n",
    "loss.plot(range(1, epochs+1), train_loss)\n",
    "loss.set_ylabel('loss')\n",
    "loss.set_xlabel('epoch')\n",
    "loss.legend(['validation', 'train'], loc='upper left')\n",
    "loss.set_title('Train and Validation Loss')\n",
    "\n",
    "plt.show()"
   ],
   "metadata": {
    "collapsed": false,
    "ExecuteTime": {
     "end_time": "2024-03-24T14:02:37.567600Z",
     "start_time": "2024-03-24T14:02:37.421788Z"
    }
   },
   "id": "6d0823ba35cf1384",
   "execution_count": 15
  },
  {
   "cell_type": "code",
   "outputs": [
    {
     "name": "stdout",
     "output_type": "stream",
     "text": [
      "\u001B[1m26/26\u001B[0m \u001B[32m━━━━━━━━━━━━━━━━━━━━\u001B[0m\u001B[37m\u001B[0m \u001B[1m3s\u001B[0m 91ms/step - accuracy: 0.6965 - f1: 0.6957 - fn: 72.5556 - fp: 69.8519 - loss: 2.3055 - precision: 0.7028 - recall: 0.6980 - tn: 154.2593 - tp: 150.0000\n",
      "accuracy 0.6614457964897156\n",
      "loss 2.662311553955078\n",
      "precision 0.6788381338119507\n",
      "recall 146.0\n",
      "f1 135.0\n",
      "tn 0.6641790866851807\n",
      "tp 0.6464890837669373\n",
      "fn 282.0\n",
      "fp 267.0\n"
     ]
    }
   ],
   "source": [
    "results  = model.evaluate(X_test, y_test)\n",
    "print('accuracy', results[1])\n",
    "print('loss', results[0])\n",
    "print('precision', results[2])\n",
    "print('recall', results[3])\n",
    "print('f1', results[4])\n",
    "print('tn', results[5])\n",
    "print('tp', results[6])\n",
    "print('fn', results[7])\n",
    "print('fp', results[8])"
   ],
   "metadata": {
    "collapsed": false,
    "ExecuteTime": {
     "end_time": "2024-03-24T15:11:59.353237Z",
     "start_time": "2024-03-24T15:11:55.854829Z"
    }
   },
   "id": "b597464ec93f49fc",
   "execution_count": 35
  },
  {
   "cell_type": "code",
   "outputs": [],
   "source": [
    "import datetime\n",
    "print(\"Last modified: \", datetime.datetime.now().strftime(\"%d/%m/%Y %H:%M:%S\") + \"\\n\")"
   ],
   "metadata": {
    "collapsed": false
   },
   "id": "3feeefbed569442f"
  }
 ],
 "metadata": {
  "kernelspec": {
   "display_name": "Python 3",
   "language": "python",
   "name": "python3"
  },
  "language_info": {
   "codemirror_mode": {
    "name": "ipython",
    "version": 2
   },
   "file_extension": ".py",
   "mimetype": "text/x-python",
   "name": "python",
   "nbconvert_exporter": "python",
   "pygments_lexer": "ipython2",
   "version": "2.7.6"
  }
 },
 "nbformat": 4,
 "nbformat_minor": 5
}
