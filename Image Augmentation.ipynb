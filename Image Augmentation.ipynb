{
 "cells": [
  {
   "cell_type": "code",
   "execution_count": 1,
   "id": "initial_id",
   "metadata": {
    "collapsed": true,
    "ExecuteTime": {
     "end_time": "2024-02-24T08:30:56.314391Z",
     "start_time": "2024-02-24T08:30:56.311183Z"
    }
   },
   "outputs": [],
   "source": [
    "dataset_directory = '/Users/chris/Library/CloudStorage/GoogleDrive-cjameswalmsley@gmail.com/My Drive/Shared with Julia/Education/Kent University/MSc/Modules/COMP8260_AI_Systems_Implementation/Project/dataset/archive'"
   ]
  },
  {
   "cell_type": "code",
   "outputs": [],
   "source": [
    "from os import path, listdir\n",
    "from cv2 import imread\n",
    "import numpy as np"
   ],
   "metadata": {
    "collapsed": false,
    "ExecuteTime": {
     "end_time": "2024-02-24T08:44:34.594037Z",
     "start_time": "2024-02-24T08:44:34.591192Z"
    }
   },
   "id": "4cd16923b8cd4d9a",
   "execution_count": 8
  },
  {
   "cell_type": "code",
   "outputs": [],
   "source": [
    "def load_image(file_path):\n",
    "    return imread(file_path)"
   ],
   "metadata": {
    "collapsed": false,
    "ExecuteTime": {
     "end_time": "2024-02-24T08:40:53.736890Z",
     "start_time": "2024-02-24T08:40:53.733620Z"
    }
   },
   "id": "57156fac50543a93",
   "execution_count": 5
  },
  {
   "cell_type": "code",
   "outputs": [
    {
     "name": "stdout",
     "output_type": "stream",
     "text": [
      "(512, 420, 3)\n"
     ]
    }
   ],
   "source": [
    "#load training images\n",
    "#img = cv2.imread(os.path.join(dataset_directory, 'train/images/0001.jpg'))\n",
    "#images = imread(path.join(dataset_directory, 'train/images/0001.jpg'))\n",
    "#x = np.array([np.array(Image.open(fname)) for fname in filelist])\n",
    "\n",
    "directory_path = path.join(dataset_directory, 'train/images')\n",
    "\n",
    "for file in listdir(directory_path):\n",
    "    if file.endswith('.jpg'):\n",
    "        img = load_image(path.join(directory_path, file))\n",
    "        print(img.shape)\n",
    "        break\n"
   ],
   "metadata": {
    "collapsed": false,
    "ExecuteTime": {
     "end_time": "2024-02-24T08:44:55.893258Z",
     "start_time": "2024-02-24T08:44:55.813902Z"
    }
   },
   "id": "f75bee063976a93f",
   "execution_count": 10
  },
  {
   "cell_type": "code",
   "outputs": [],
   "source": [],
   "metadata": {
    "collapsed": false
   },
   "id": "509dd5d7298c3d79"
  }
 ],
 "metadata": {
  "kernelspec": {
   "display_name": "Python 3",
   "language": "python",
   "name": "python3"
  },
  "language_info": {
   "codemirror_mode": {
    "name": "ipython",
    "version": 2
   },
   "file_extension": ".py",
   "mimetype": "text/x-python",
   "name": "python",
   "nbconvert_exporter": "python",
   "pygments_lexer": "ipython2",
   "version": "2.7.6"
  }
 },
 "nbformat": 4,
 "nbformat_minor": 5
}
