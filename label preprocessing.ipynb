{
 "cells": [
  {
   "cell_type": "markdown",
   "source": [
    "# Takes the multiclass labels file and converts it to a binary labels file - fracture or no fracture"
   ],
   "metadata": {
    "collapsed": false
   },
   "id": "ec26699359cb20ea"
  },
  {
   "cell_type": "code",
   "outputs": [],
   "source": [
    "from os import path\n",
    "import pandas as pd"
   ],
   "metadata": {
    "collapsed": false,
    "ExecuteTime": {
     "end_time": "2024-03-07T09:42:59.339498Z",
     "start_time": "2024-03-07T09:42:59.334563Z"
    }
   },
   "id": "26eb1558abf572f6",
   "execution_count": 12
  },
  {
   "cell_type": "code",
   "outputs": [],
   "source": [
    "datasets_directory = '/Users/chris/Library/CloudStorage/GoogleDrive-cjameswalmsley@gmail.com/My Drive/Shared with Julia/Education/Kent University/MSc/Modules/COMP8260_AI_Systems_Implementation/Project/datasets/'\n",
    "#dataset_directory = path.join(datasets_directory, 'archive/')\n",
    "dataset_directory = path.join(datasets_directory, 'bone_fracture_detection.v4-v4.multiclass/')"
   ],
   "metadata": {
    "collapsed": false,
    "ExecuteTime": {
     "end_time": "2024-03-07T09:43:00.107112Z",
     "start_time": "2024-03-07T09:43:00.103500Z"
    }
   },
   "id": "b40288d76cdc312a",
   "execution_count": 13
  },
  {
   "cell_type": "code",
   "outputs": [],
   "source": [
    "def load_and_preprocess_labels(a_labels_filepath):\n",
    "    #load the categorical data and sum the values in each row to get a 0 or 1 result which inidcates if there image is any fracture or not. \n",
    "    csv_filepath = path.join(dataset_directory, a_labels_filepath)\n",
    "    df = pd.read_csv(path.join(dataset_directory, csv_filepath))\n",
    "    sum_of_classes = df.sum(axis='columns', numeric_only=True)\n",
    "    #replace the individual category columns with the binary classification column\n",
    "    df_binary=df.drop([' elbow positive', ' fingers positive', ' forearm fracture', ' humerus', ' humerus fracture', ' shoulder fracture', ' wrist positive'],axis=1)\n",
    "    df_binary['target']=sum_of_classes\n",
    "    #replace any values greater than 1 with 1 (there are 2 rows with a value of 2 in the dataset)\n",
    "    df_binary.loc[df_binary.target > 1,'target'] = 1\n",
    "    print(df_binary.info())\n",
    "    print(df_binary['target'].value_counts())\n",
    "    print(df_binary[:5])\n",
    "    return df_binary"
   ],
   "metadata": {
    "collapsed": true,
    "ExecuteTime": {
     "end_time": "2024-03-07T09:43:01.676878Z",
     "start_time": "2024-03-07T09:43:01.673436Z"
    }
   },
   "id": "initial_id",
   "execution_count": 14
  },
  {
   "cell_type": "code",
   "outputs": [],
   "source": [
    "def write_lables(a_df_tuple):\n",
    "    (a_df, a_dir_name) = a_df_tuple\n",
    "    #write the binary labels to a new file\n",
    "    binary_labels_filepath = path.join(datasets_directory, 'binary_classification/'+ a_dir_name + '/labels/labels.csv')\n",
    "    a_df.to_csv(binary_labels_filepath, index=False)"
   ],
   "metadata": {
    "collapsed": false,
    "ExecuteTime": {
     "end_time": "2024-03-07T09:52:46.305730Z",
     "start_time": "2024-03-07T09:52:46.299379Z"
    }
   },
   "id": "289015ead4dc5693",
   "execution_count": 18
  },
  {
   "cell_type": "code",
   "outputs": [
    {
     "name": "stdout",
     "output_type": "stream",
     "text": [
      "<class 'pandas.core.frame.DataFrame'>\n",
      "RangeIndex: 3631 entries, 0 to 3630\n",
      "Data columns (total 2 columns):\n",
      " #   Column    Non-Null Count  Dtype \n",
      "---  ------    --------------  ----- \n",
      " 0   filename  3631 non-null   object\n",
      " 1   target    3631 non-null   int64 \n",
      "dtypes: int64(1), object(1)\n",
      "memory usage: 56.9+ KB\n",
      "None\n",
      "target\n",
      "0    1827\n",
      "1    1804\n",
      "Name: count, dtype: int64\n",
      "                                            filename  target\n",
      "0  image1_753_png.rf.611c51510c1794dbf76a67307678...       1\n",
      "1  image1_888_png.rf.614a3cdebe5fb086b60ccef277a9...       1\n",
      "2  image1_208_png.rf.61714b3d44ca4a1981225a291054...       1\n",
      "3  image1_766_png.rf.6185692944249a1226ae9ed74c32...       0\n",
      "4  image1_68_png.rf.60970c5e5b05495c1d0d4950a95d5...       0\n",
      "<class 'pandas.core.frame.DataFrame'>\n",
      "RangeIndex: 169 entries, 0 to 168\n",
      "Data columns (total 2 columns):\n",
      " #   Column    Non-Null Count  Dtype \n",
      "---  ------    --------------  ----- \n",
      " 0   filename  169 non-null    object\n",
      " 1   target    169 non-null    int64 \n",
      "dtypes: int64(1), object(1)\n",
      "memory usage: 2.8+ KB\n",
      "None\n",
      "target\n",
      "0    86\n",
      "1    83\n",
      "Name: count, dtype: int64\n",
      "                                            filename  target\n",
      "0  image2_199_png.rf.111ecddb2bdc3542d7f953385d1b...       1\n",
      "1  image1_3073_png.rf.241285b7d595353800440e6d2b9...       1\n",
      "2  image1_268_png.rf.00406f976b1bd6c978e828d2c508...       0\n",
      "3  image1_1981_png.rf.05106dc3354a8d2c4292cacd281...       1\n",
      "4  image1_540_png.rf.0e3e26d67bb471fb263c983cdf75...       0\n",
      "<class 'pandas.core.frame.DataFrame'>\n",
      "RangeIndex: 348 entries, 0 to 347\n",
      "Data columns (total 2 columns):\n",
      " #   Column    Non-Null Count  Dtype \n",
      "---  ------    --------------  ----- \n",
      " 0   filename  348 non-null    object\n",
      " 1   target    348 non-null    int64 \n",
      "dtypes: int64(1), object(1)\n",
      "memory usage: 5.6+ KB\n",
      "None\n",
      "target\n",
      "0    175\n",
      "1    173\n",
      "Name: count, dtype: int64\n",
      "                                            filename  target\n",
      "0  image1_162_png.rf.0132591669e00deaf033b6d409e4...       0\n",
      "1  image1_7058_png.rf.029c63a7047dedf16c6d0ce0153...       1\n",
      "2  image1_1096_png.rf.0201a3553b8b76991d514ced849...       0\n",
      "3  image1_3613_png.rf.04279ec0c858ecc936ec0199d6e...       1\n",
      "4  image1_382_png.rf.051ac683451d7606ad307fdeddfb...       0\n"
     ]
    },
    {
     "data": {
      "text/plain": "[None, None, None]"
     },
     "execution_count": 19,
     "metadata": {},
     "output_type": "execute_result"
    }
   ],
   "source": [
    "train_df = load_and_preprocess_labels('train/_classes.csv')\n",
    "test_df = load_and_preprocess_labels('test/_classes.csv')\n",
    "valid_df = load_and_preprocess_labels('valid/_classes.csv')\n",
    "\n",
    "df_tuples = [(train_df, 'train'), (test_df, 'test'), (valid_df, 'valid')]\n",
    "\n",
    "[write_lables(a_df_tuple) for a_df_tuple in df_tuples]\n"
   ],
   "metadata": {
    "collapsed": false,
    "ExecuteTime": {
     "end_time": "2024-03-07T09:52:48.057436Z",
     "start_time": "2024-03-07T09:52:48.023827Z"
    }
   },
   "id": "e12abefaa1396c21",
   "execution_count": 19
  },
  {
   "cell_type": "code",
   "outputs": [
    {
     "name": "stdout",
     "output_type": "stream",
     "text": [
      "Last modified:  24/03/2024 07:40:36\n"
     ]
    }
   ],
   "source": [
    "import datetime\n",
    "print(\"Last modified: \", datetime.datetime.now().strftime(\"%d/%m/%Y %H:%M:%S\") + \"\\n\")"
   ],
   "metadata": {
    "collapsed": false,
    "ExecuteTime": {
     "end_time": "2024-03-24T07:40:36.019312Z",
     "start_time": "2024-03-24T07:40:36.014604Z"
    }
   },
   "id": "59f39311d2d81a51",
   "execution_count": 1
  }
 ],
 "metadata": {
  "kernelspec": {
   "display_name": "Python 3",
   "language": "python",
   "name": "python3"
  },
  "language_info": {
   "codemirror_mode": {
    "name": "ipython",
    "version": 2
   },
   "file_extension": ".py",
   "mimetype": "text/x-python",
   "name": "python",
   "nbconvert_exporter": "python",
   "pygments_lexer": "ipython2",
   "version": "2.7.6"
  }
 },
 "nbformat": 4,
 "nbformat_minor": 5
}
