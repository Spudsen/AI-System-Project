{
 "cells": [
  {
   "cell_type": "code",
   "outputs": [],
   "source": [
    "from os import path\n",
    "import pandas as pd"
   ],
   "metadata": {
    "collapsed": false,
    "ExecuteTime": {
     "end_time": "2024-03-07T08:39:02.176821Z",
     "start_time": "2024-03-07T08:39:01.627924Z"
    }
   },
   "id": "26eb1558abf572f6",
   "execution_count": 1
  },
  {
   "cell_type": "code",
   "outputs": [],
   "source": [
    "datasets_directory = '/Users/chris/Library/CloudStorage/GoogleDrive-cjameswalmsley@gmail.com/My Drive/Shared with Julia/Education/Kent University/MSc/Modules/COMP8260_AI_Systems_Implementation/Project/datasets/'\n",
    "#dataset_directory = path.join(datasets_directory, 'archive/')\n",
    "dataset_directory = path.join(datasets_directory, 'bone_fracture_detection.v4-v4.multiclass/')"
   ],
   "metadata": {
    "collapsed": false,
    "ExecuteTime": {
     "end_time": "2024-03-07T08:39:02.180060Z",
     "start_time": "2024-03-07T08:39:02.178032Z"
    }
   },
   "id": "b40288d76cdc312a",
   "execution_count": 2
  },
  {
   "cell_type": "code",
   "outputs": [
    {
     "name": "stdout",
     "output_type": "stream",
     "text": [
      "target\n",
      "0    1827\n",
      "1    1804\n",
      "Name: count, dtype: int64\n",
      "                                            filename  target\n",
      "0  image1_753_png.rf.611c51510c1794dbf76a67307678...       1\n",
      "1  image1_888_png.rf.614a3cdebe5fb086b60ccef277a9...       1\n",
      "2  image1_208_png.rf.61714b3d44ca4a1981225a291054...       1\n",
      "3  image1_766_png.rf.6185692944249a1226ae9ed74c32...       0\n",
      "4  image1_68_png.rf.60970c5e5b05495c1d0d4950a95d5...       0\n",
      "<class 'pandas.core.frame.DataFrame'>\n",
      "RangeIndex: 3631 entries, 0 to 3630\n",
      "Data columns (total 2 columns):\n",
      " #   Column    Non-Null Count  Dtype \n",
      "---  ------    --------------  ----- \n",
      " 0   filename  3631 non-null   object\n",
      " 1   target    3631 non-null   int64 \n",
      "dtypes: int64(1), object(1)\n",
      "memory usage: 56.9+ KB\n"
     ]
    }
   ],
   "source": [
    "#load the categorical data and sum the values in each row to get a 0 or 1 result which inidcates if there image is any fracture or not. \n",
    "csv_filepath = path.join(dataset_directory, 'train/_classes.csv')\n",
    "df = pd.read_csv(path.join(dataset_directory, csv_filepath))\n",
    "sum_of_classes = df.sum(axis='columns', numeric_only=True)\n",
    "#replace the individual category columns with the binary classification column\n",
    "df_binary=df.drop([' elbow positive', ' fingers positive', ' forearm fracture', ' humerus', ' humerus fracture', ' shoulder fracture', ' wrist positive'],axis=1)\n",
    "df_binary['target']=sum_of_classes\n",
    "#replace any values greater than 1 with 1 (there are 2 rows with a value of 2 in the dataset)\n",
    "df_binary.loc[df_binary.target > 1,'target'] = 1\n",
    "print(df_binary['target'].value_counts())\n",
    "print(df_binary[:5])\n",
    "df_binary.info()"
   ],
   "metadata": {
    "collapsed": true,
    "ExecuteTime": {
     "end_time": "2024-03-07T08:39:22.759305Z",
     "start_time": "2024-03-07T08:39:22.747019Z"
    }
   },
   "id": "initial_id",
   "execution_count": 5
  },
  {
   "cell_type": "code",
   "outputs": [],
   "source": [
    "#write the binary labels to a new file\n",
    "binary_labels_filepath = path.join(datasets_directory, 'binary_classification/train/labels/binary_labels.csv')\n",
    "df_binary.to_csv(binary_labels_filepath, index=False)"
   ],
   "metadata": {
    "collapsed": false,
    "ExecuteTime": {
     "end_time": "2024-03-07T08:53:13.174393Z",
     "start_time": "2024-03-07T08:53:13.133476Z"
    }
   },
   "id": "289015ead4dc5693",
   "execution_count": 6
  }
 ],
 "metadata": {
  "kernelspec": {
   "display_name": "Python 3",
   "language": "python",
   "name": "python3"
  },
  "language_info": {
   "codemirror_mode": {
    "name": "ipython",
    "version": 2
   },
   "file_extension": ".py",
   "mimetype": "text/x-python",
   "name": "python",
   "nbconvert_exporter": "python",
   "pygments_lexer": "ipython2",
   "version": "2.7.6"
  }
 },
 "nbformat": 4,
 "nbformat_minor": 5
}
